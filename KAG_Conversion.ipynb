{
  "nbformat": 4,
  "nbformat_minor": 0,
  "metadata": {
    "colab": {
      "name": "KAG_Conversion.ipynb",
      "provenance": [],
      "authorship_tag": "ABX9TyMr09PmWpCWPeR48r700rtQ",
      "include_colab_link": true
    },
    "kernelspec": {
      "name": "python3",
      "display_name": "Python 3"
    },
    "language_info": {
      "name": "python"
    }
  },
  "cells": [
    {
      "cell_type": "markdown",
      "metadata": {
        "id": "view-in-github",
        "colab_type": "text"
      },
      "source": [
        "<a href=\"https://colab.research.google.com/github/Hwarriach/KAG-Conversion-Project/blob/main/KAG_Conversion.ipynb\" target=\"_parent\"><img src=\"https://colab.research.google.com/assets/colab-badge.svg\" alt=\"Open In Colab\"/></a>"
      ]
    },
    {
      "cell_type": "code",
      "execution_count": 75,
      "metadata": {
        "id": "ztKf19rgXHG_"
      },
      "outputs": [],
      "source": [
        "## Import & Load Data\n",
        "\n",
        "data_file = 'KAG_Conversion_Data.csv'\n",
        "import numpy as np\n",
        "\n",
        "data = np.genfromtxt(data_file, delimiter=\",\", skip_header=1)\n",
        "data1 =np.genfromtxt(data_file, delimiter=\",\", skip_header=1,dtype='str')\n"
      ]
    },
    {
      "cell_type": "code",
      "source": [
        "data.shape"
      ],
      "metadata": {
        "colab": {
          "base_uri": "https://localhost:8080/"
        },
        "id": "BiGt1QhOXzLH",
        "outputId": "d4174639-d067-4ee7-ec83-2e11ebe24ce1"
      },
      "execution_count": 5,
      "outputs": [
        {
          "output_type": "execute_result",
          "data": {
            "text/plain": [
              "(1143, 11)"
            ]
          },
          "metadata": {},
          "execution_count": 5
        }
      ]
    },
    {
      "cell_type": "code",
      "source": [
        "## Find how many unique ad campaigns\n",
        "\n",
        "ad_campaigns = data[:,1]\n",
        "unique_ad_campaigns = len(set(ad_campaigns))\n",
        "print(\"Number of unique ad campaigns :\",unique_ad_campaigns)"
      ],
      "metadata": {
        "colab": {
          "base_uri": "https://localhost:8080/"
        },
        "id": "KQHXDbXyX7Qm",
        "outputId": "6fa5731a-2d7a-49f1-be62-8fd88e0190d5"
      },
      "execution_count": 78,
      "outputs": [
        {
          "output_type": "stream",
          "name": "stdout",
          "text": [
            "Number of unique ad campaigns : 3\n"
          ]
        }
      ]
    },
    {
      "cell_type": "code",
      "source": [
        "## Number of times each ad campaign was run\n",
        "\n",
        "ad_cam = np.unique(ad_campaigns)\n",
        "for i in ad_cam:\n",
        "  count = len(ad_campaigns[ad_campaigns==i])\n",
        "  print(count)\n",
        "\n"
      ],
      "metadata": {
        "colab": {
          "base_uri": "https://localhost:8080/"
        },
        "id": "7h4QgAFyc0_v",
        "outputId": "f29dce5d-8a7a-4f24-9929-93825bd120b2"
      },
      "execution_count": 32,
      "outputs": [
        {
          "output_type": "stream",
          "name": "stdout",
          "text": [
            "54\n",
            "464\n",
            "625\n"
          ]
        }
      ]
    },
    {
      "cell_type": "code",
      "source": [
        "## The age groups that were targeted through the ad campaigns \n",
        "\n",
        "age = data1[:,3]\n",
        "unique_age = np.unique(age)\n",
        "print(\"Targeted age groups :\", unique_age[0],\",\",unique_age[1],\",\", unique_age[2],\",\", unique_age[3])\n"
      ],
      "metadata": {
        "colab": {
          "base_uri": "https://localhost:8080/"
        },
        "id": "warWl0IVZrpW",
        "outputId": "fcbaf062-2b1c-4a07-8264-8a86dd430399"
      },
      "execution_count": 88,
      "outputs": [
        {
          "output_type": "stream",
          "name": "stdout",
          "text": [
            "Targeted age groups : 30-34 , 35-39 , 40-44 , 45-49\n"
          ]
        }
      ]
    },
    {
      "cell_type": "code",
      "source": [
        "# Avg, min, and max amount spend on ads\n",
        "\n",
        "spent = data[:,8]\n",
        "\n",
        "min_spent = spent.min()\n",
        "max_spent = spent.max()\n",
        "avg_spent = spent.mean()\n",
        "\n",
        "print(\"Min spent :\", min_spent)\n",
        "print(\"Max spent :\", max_spent)\n",
        "print(\"Avg spent :\", avg_spent)"
      ],
      "metadata": {
        "colab": {
          "base_uri": "https://localhost:8080/"
        },
        "id": "2JrsZUl5fnxY",
        "outputId": "888c6b15-2528-4a2f-af54-aef9e8f00578"
      },
      "execution_count": 91,
      "outputs": [
        {
          "output_type": "stream",
          "name": "stdout",
          "text": [
            "Min spent : 0.0\n",
            "Max spent : 639.9499981\n",
            "Avg spent : 51.36065613141295\n"
          ]
        }
      ]
    },
    {
      "cell_type": "code",
      "source": [
        "## ID of the ad having the max number of clicks\n",
        "\n",
        "clicks = data[:,7]\n",
        "ad_id = data[:,0]\n",
        "\n",
        "max_clicks = clicks.max()\n",
        "max_id = np.extract(clicks==max_clicks,ad_id)\n",
        "\n",
        "print(\"ID :\", max_id[0])"
      ],
      "metadata": {
        "colab": {
          "base_uri": "https://localhost:8080/"
        },
        "id": "kP-fuhtqgOLa",
        "outputId": "2cc9921e-709d-42b8-abee-98f7c16be61a"
      },
      "execution_count": 93,
      "outputs": [
        {
          "output_type": "stream",
          "name": "stdout",
          "text": [
            "ID : 1121814.0\n"
          ]
        }
      ]
    },
    {
      "cell_type": "code",
      "source": [
        "## How many purchases with the most ad clicks\n",
        "\n",
        "buy = data[0:,-1]\n",
        "\n",
        "numberbuy = np.extract(clicks==max_clicks,buy)\n",
        "print('purchases with the most ad clicks :', numberbuy[0])\n"
      ],
      "metadata": {
        "colab": {
          "base_uri": "https://localhost:8080/"
        },
        "id": "OnYTXVgJg3K4",
        "outputId": "e07cd049-914c-40e3-8381-17a54eeec527"
      },
      "execution_count": 74,
      "outputs": [
        {
          "output_type": "stream",
          "name": "stdout",
          "text": [
            "purchases with the most ad clicks : 13.0\n"
          ]
        }
      ]
    },
    {
      "cell_type": "code",
      "source": [
        "## Unique columns\n",
        "\n",
        "fb = data1[:,2]\n",
        "gender = data1[:,4]\n",
        "interest = data1[:,5]\n",
        "impression = data1[:,6]\n",
        "totalconversion = data1[:,-2]\n",
        "\n",
        "l = [ad_id,ad_campaigns, age,spent, clicks,buy,fb,interest, impression, totalconversion,gender]\n",
        "s = ['ad_id','ad_campaigns', 'age','spent', 'clicks','buy','fb','interest', 'impression', 'totalconversion','gender']"
      ],
      "metadata": {
        "id": "jcWDXV67i0Zu"
      },
      "execution_count": 94,
      "outputs": []
    },
    {
      "cell_type": "code",
      "source": [
        "#Details of the product having the highest number of purchases\n",
        "\n",
        "maxbuy = buy.max()\n",
        "print('Highest number of purchases :', maxbuy)\n",
        "print('The product details are below :')\n",
        "\n",
        "for xyz in l:\n",
        "  detail = np.extract(buy==maxbuy, xyz)\n",
        "  print('-',detail[0])\n"
      ],
      "metadata": {
        "colab": {
          "base_uri": "https://localhost:8080/"
        },
        "id": "UoLwCIlFiFKx",
        "outputId": "e574c9ef-3020-4e5a-e570-6d89b4c97def"
      },
      "execution_count": 97,
      "outputs": [
        {
          "output_type": "stream",
          "name": "stdout",
          "text": [
            "Highest number of purchases : 21.0\n",
            "The product details are below :\n",
            "- 1121104.0\n",
            "- 1178.0\n",
            "- 30-34\n",
            "- 360.1500015\n",
            "- 202.0\n",
            "- 21.0\n",
            "- 144533\n",
            "- 16\n",
            "- 2080666\n",
            "- 40\n",
            "- M\n"
          ]
        }
      ]
    }
  ]
}